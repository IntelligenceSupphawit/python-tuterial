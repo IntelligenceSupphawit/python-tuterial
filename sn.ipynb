{
 "cells": [
  {
   "cell_type": "code",
   "execution_count": 1,
   "metadata": {},
   "outputs": [
    {
     "name": "stdout",
     "output_type": "stream",
     "text": [
      "Collecting numpy\n",
      "  Downloading numpy-2.1.1-cp312-cp312-win_amd64.whl.metadata (59 kB)\n",
      "     ---------------------------------------- 0.0/59.7 kB ? eta -:--:--\n",
      "     ------ --------------------------------- 10.2/59.7 kB ? eta -:--:--\n",
      "     -------------------------- ----------- 41.0/59.7 kB 487.6 kB/s eta 0:00:01\n",
      "     -------------------------------------- 59.7/59.7 kB 526.6 kB/s eta 0:00:00\n",
      "Downloading numpy-2.1.1-cp312-cp312-win_amd64.whl (12.6 MB)\n",
      "   ---------------------------------------- 0.0/12.6 MB ? eta -:--:--\n",
      "    --------------------------------------- 0.2/12.6 MB 3.7 MB/s eta 0:00:04\n",
      "   -- ------------------------------------- 0.8/12.6 MB 8.0 MB/s eta 0:00:02\n",
      "   ----- ---------------------------------- 1.7/12.6 MB 11.8 MB/s eta 0:00:01\n",
      "   ------- -------------------------------- 2.5/12.6 MB 13.1 MB/s eta 0:00:01\n",
      "   ----------- ---------------------------- 3.6/12.6 MB 16.3 MB/s eta 0:00:01\n",
      "   -------------- ------------------------- 4.7/12.6 MB 17.5 MB/s eta 0:00:01\n",
      "   ----------------- ---------------------- 5.6/12.6 MB 17.1 MB/s eta 0:00:01\n",
      "   -------------------- ------------------- 6.4/12.6 MB 17.8 MB/s eta 0:00:01\n",
      "   ----------------------- ---------------- 7.3/12.6 MB 17.3 MB/s eta 0:00:01\n",
      "   -------------------------- ------------- 8.2/12.6 MB 18.1 MB/s eta 0:00:01\n",
      "   ----------------------------- ---------- 9.2/12.6 MB 18.5 MB/s eta 0:00:01\n",
      "   ------------------------------ --------- 9.7/12.6 MB 17.7 MB/s eta 0:00:01\n",
      "   ---------------------------------- ----- 10.7/12.6 MB 19.2 MB/s eta 0:00:01\n",
      "   ------------------------------------ --- 11.6/12.6 MB 19.8 MB/s eta 0:00:01\n",
      "   ---------------------------------------  12.6/12.6 MB 19.8 MB/s eta 0:00:01\n",
      "   ---------------------------------------- 12.6/12.6 MB 19.3 MB/s eta 0:00:00\n",
      "Installing collected packages: numpy\n",
      "Successfully installed numpy-2.1.1\n",
      "Note: you may need to restart the kernel to use updated packages.\n"
     ]
    },
    {
     "name": "stderr",
     "output_type": "stream",
     "text": [
      "\n",
      "[notice] A new release of pip is available: 24.0 -> 24.2\n",
      "[notice] To update, run: python.exe -m pip install --upgrade pip\n"
     ]
    },
    {
     "name": "stdout",
     "output_type": "stream",
     "text": [
      "Note: you may need to restart the kernel to use updated packages.\n"
     ]
    },
    {
     "name": "stderr",
     "output_type": "stream",
     "text": [
      "ERROR: Could not find a version that satisfies the requirement time (from versions: none)\n",
      "ERROR: No matching distribution found for time\n",
      "\n",
      "[notice] A new release of pip is available: 24.0 -> 24.2\n",
      "[notice] To update, run: python.exe -m pip install --upgrade pip\n"
     ]
    }
   ],
   "source": [
    "%pip install numpy\n",
    "%pip install time"
   ]
  },
  {
   "cell_type": "code",
   "execution_count": 2,
   "metadata": {},
   "outputs": [],
   "source": [
    "import numpy as np\n",
    "import time"
   ]
  },
  {
   "cell_type": "code",
   "execution_count": 6,
   "metadata": {},
   "outputs": [
    {
     "data": {
      "text/plain": [
       "np.int64(8)"
      ]
     },
     "execution_count": 6,
     "metadata": {},
     "output_type": "execute_result"
    }
   ],
   "source": [
    "a= np.array([[1,2,3],[4,5,6],[7,8,9],[10,11,12]])\n",
    "a[2,1]"
   ]
  },
  {
   "cell_type": "code",
   "execution_count": 9,
   "metadata": {},
   "outputs": [
    {
     "data": {
      "text/plain": [
       "array([10, 11, 12])"
      ]
     },
     "execution_count": 9,
     "metadata": {},
     "output_type": "execute_result"
    }
   ],
   "source": [
    "a= np.array([[1,2,3],[4,5,6],[7,8,9],[10,11,12]])\n",
    "a[3,:]"
   ]
  }
 ],
 "metadata": {
  "kernelspec": {
   "display_name": "Python 3",
   "language": "python",
   "name": "python3"
  },
  "language_info": {
   "codemirror_mode": {
    "name": "ipython",
    "version": 3
   },
   "file_extension": ".py",
   "mimetype": "text/x-python",
   "name": "python",
   "nbconvert_exporter": "python",
   "pygments_lexer": "ipython3",
   "version": "3.12.4"
  }
 },
 "nbformat": 4,
 "nbformat_minor": 2
}
